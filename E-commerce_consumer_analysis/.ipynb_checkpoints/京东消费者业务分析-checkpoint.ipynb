{
 "cells": [
  {
   "cell_type": "markdown",
   "id": "c2319c9e",
   "metadata": {},
   "source": [
    "# 一、简介"
   ]
  },
  {
   "cell_type": "markdown",
   "id": "f3f0beda",
   "metadata": {},
   "source": [
    "此数据为某电商平台2018年2月份到2018年4月15号的消费者数据，本文会对电商的用户基础数据、用户行为数据、产品数据、商家数据做一个探索性分析，最后对平台的整体的运营指标数据做一个整体分析"
   ]
  },
  {
   "cell_type": "markdown",
   "id": "5fa15412",
   "metadata": {},
   "source": [
    "https://juejin.cn/post/6844904202590748679\n",
    "流量指标分析\n",
    "用户消费频次分析\n",
    "用户行为在时间纬度的分布\n",
    "用户行为转化漏斗\n",
    "用户留存率分析\n",
    "商品销量分析\n",
    "RFM用户价值分层\n",
    "消费者用户画像\n",
    "企业可根据用户行为画像、用户商品偏好画像可以满足企业精细化运营，促进新增长；也可以定下投放广告，获取目标用户；也可制作推荐策略，促进目标用户消费等等\n",
    "https://github.com/ywan0920/E-commerce_consumer_analysis/tree/master"
   ]
  }
 ],
 "metadata": {
  "kernelspec": {
   "display_name": "Python 3 (ipykernel)",
   "language": "python",
   "name": "python3"
  },
  "language_info": {
   "codemirror_mode": {
    "name": "ipython",
    "version": 3
   },
   "file_extension": ".py",
   "mimetype": "text/x-python",
   "name": "python",
   "nbconvert_exporter": "python",
   "pygments_lexer": "ipython3",
   "version": "3.11.4"
  }
 },
 "nbformat": 4,
 "nbformat_minor": 5
}
